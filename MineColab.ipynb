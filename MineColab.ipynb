{
  "nbformat": 4,
  "nbformat_minor": 0,
  "metadata": {
    "colab": {
      "name": "MineColab",
      "provenance": [],
      "collapsed_sections": [],
      "include_colab_link": true
    },
    "kernelspec": {
      "name": "python3",
      "display_name": "Python 3"
    }
  },
  "cells": [
    {
      "cell_type": "markdown",
      "metadata": {
        "id": "view-in-github",
        "colab_type": "text"
      },
      "source": [
        "<a href=\"https://colab.research.google.com/github/thecoder-001/MineColab/blob/ngrok-mitigation/MineColab.ipynb\" target=\"_parent\"><img src=\"https://colab.research.google.com/assets/colab-badge.svg\" alt=\"Open In Colab\"/></a>"
      ]
    },
    {
      "cell_type": "markdown",
      "metadata": {
        "id": "ZktjRJuZp1h6"
      },
      "source": [
        "```\n",
        "███╗   ███╗██╗███╗   ██╗███████╗ ██████╗ ██████╗ ██╗      █████╗ ██████╗ \n",
        "████╗ ████║██║████╗  ██║██╔════╝██╔════╝██╔═══██╗██║     ██╔══██╗██╔══██╗\n",
        "██╔████╔██║██║██╔██╗ ██║█████╗  ██║     ██║   ██║██║     ███████║██████╔╝\n",
        "██║╚██╔╝██║██║██║╚██╗██║██╔══╝  ██║     ██║   ██║██║     ██╔══██║██╔══██╗\n",
        "██║ ╚═╝ ██║██║██║ ╚████║███████╗╚██████╗╚██████╔╝███████╗██║  ██║██████╔╝\n",
        "╚═╝     ╚═╝╚═╝╚═╝  ╚═══╝╚══════╝ ╚═════╝ ╚═════╝ ╚══════╝╚═╝  ╚═╝╚═════╝ \n",
        "```\n",
        "**Run a Minecraft Server on Google Colab!**\n",
        "\n",
        "---\n",
        "\n",
        "The script below will run your server. You'll have to create a server first to be able to use it - don't worry, the scripts below will do the majority of the work for you. You might also want to change the default region to your region, check below."
      ]
    },
    {
      "cell_type": "code",
      "metadata": {
        "id": "lqtMoYg0dUmu"
      },
      "source": [
        "!pip -q install pyngrok\n",
        "\n",
        "import os\n",
        "import re\n",
        "import getpass\n",
        "import subprocess\n",
        "from pyngrok import conf, ngrok\n",
        "# Update the package lists\n",
        "!sudo apt update &>/dev/null && echo \"apt cache successfully updated\" || echo \"apt cache update failed, you might receive stale packages\"\n",
        "# Install OpenJDK 15\n",
        "!wget -qO - https://adoptopenjdk.jfrog.io/adoptopenjdk/api/gpg/key/public | sudo apt-key add -\n",
        "!sudo add-apt-repository --yes https://adoptopenjdk.jfrog.io/adoptopenjdk/deb/ &>/dev/null || echo \"Failed to add repo. Still can be ignored if openjdk15 gets installed.\"\n",
        "!sudo apt-get install adoptopenjdk-15-hotspot-jre &>/dev/null && echo \"Yay! Openjdk15 has been successfully installed.\" || echo \"Failed to install OpenJdk15.\"\n",
        "#Perform java version check\n",
        "java_ver = !java -version 2>&1 | awk -F[\\\"\\.] -v OFS=. 'NR==1{print $2}'\n",
        "if java_ver[0] == \"15\" :\n",
        "  print(\"Openjdk15 is working correctly, you are good to go.\")\n",
        "else:\n",
        "  print(\"Openjdk15 doesn't seems to be installed or isn't working, falling back to java\", java_ver[0], \". You might experience reduced performance.\")\n",
        "\n",
        "\n",
        "# Mount Google Drive\n",
        "from google.colab import drive\n",
        "drive.mount('/content/drive')\n",
        "\n",
        "#set the tunnel service\n",
        "tunnel_service = \"lynk\" #available services: ngrok, lynk, tunnelto\n",
        "\n",
        "# Ask for the ngrok authtoken\n",
        "if tunnel_service == \"ngrok\" :\n",
        "  print(\"Get your authtoken from https://dashboard.ngrok.com/auth\")\n",
        "  authtoken = getpass.getpass()  # input your Ngrok auth token everytime you run the cell or simply replace \"getpass.getpass()\" with your token in \"double quotes\"\n",
        "  !ngrok authtoken $authtoken # login to ngrok\n",
        "elif tunnel_service == \"lynk\" :\n",
        "  !wget https://dl.loopholelabs.io/releases/lynk/linux/0.0.1-beta/x64/lynk.zip\n",
        "  print(\"get yout token and key from https://lynk.sh/dashboard\")\n",
        "  lynk_token = getpass.getpass()  # input your lynk token everytime you run the cell or simply replace \"getpass.getpass()\" with your token in \"double quotes\"\n",
        "  lynk_key = getpass.getpass()\n",
        "  !chmod +x lynk\n",
        "  !./lynk auth -t $lynk_token -k $lynk_key\n",
        "  with open(\"/content/lynk_temp.txt\") as out :\n",
        "    subprocess.Popen([\"./lynk\", \"tcp\", \"25566\"], stdout=out)\n",
        "  print(\"test\")\n",
        "elif tunnel_service == \"tunnelto\" :\n",
        "  print(\"todo\") #todo\n",
        "\n",
        "\n",
        "\n",
        "# Sets default ngrok region\n",
        "conf.get_default().region = 'us'  # Change this to whichever region you want\n",
        "\n",
        "# Connect to ngrok\n",
        "url = ngrok.connect(25565, 'tcp')\n",
        "print('Your server address is ' + ((str(url).split('\"')[1::2])[0]).replace('tcp://', ''))\n",
        "\n",
        "# Change directory to the Minecraft server folder on Google Drive\n",
        "%cd \"/content/drive/My Drive/Minecraft-server\"\n",
        "!ls #list the directory contents (to verify that working directory was changed)\n",
        "\n",
        "print('Starting server...')\n",
        "!java -Xmx6144M -Xms6144M -XX:+UseG1GC -XX:+ParallelRefProcEnabled -XX:MaxGCPauseMillis=200 -XX:+UnlockExperimentalVMOptions -XX:+DisableExplicitGC -XX:+AlwaysPreTouch -XX:G1NewSizePercent=30 -XX:G1MaxNewSizePercent=40 -XX:G1HeapRegionSize=8M -XX:G1ReservePercent=20 -XX:G1HeapWastePercent=5 -XX:G1MixedGCCountTarget=4 -XX:InitiatingHeapOccupancyPercent=15 -XX:G1MixedGCLiveThresholdPercent=90 -XX:G1RSetUpdatingPauseTimePercent=5 -XX:SurvivorRatio=32 -XX:+PerfDisableSharedMem -XX:MaxTenuringThreshold=1 -Dusing.aikars.flags=https://mcflags.emc.gs -Daikars.new.flags=true -jar server.jar nogui\n"
      ],
      "execution_count": null,
      "outputs": []
    },
    {
      "cell_type": "markdown",
      "metadata": {
        "id": "_4IowSDVUZp8"
      },
      "source": [
        "# Make-a-Server\n",
        "\n",
        "The code below will download a server for you and accept the EULA. After running these scripts, your server will be ready to run."
      ]
    },
    {
      "cell_type": "markdown",
      "metadata": {
        "id": "7wrNfinQOlWV"
      },
      "source": [
        "**Download the Minecraft server**\n",
        "\n",
        "The code below will download Paper, a high-performance fork of the Vanilla server."
      ]
    },
    {
      "cell_type": "code",
      "metadata": {
        "id": "Fy5-YjJMPV3S"
      },
      "source": [
        "# Replace \"1.16.4\" with your desired server version.\n",
        "# Available versions:\n",
        "# - 1.16.4\n",
        "# - 1.16.3\n",
        "# - 1.15.2\n",
        "# - 1.14.4\n",
        "# - 1.13.2\n",
        "# - 1.12.2\n",
        "# - 1.11.2\n",
        "# - 1.10.2\n",
        "# - 1.9.4\n",
        "# - 1.8.8\n",
        "# Newer versions might work too, however this isn't guaranteed.\n",
        "version = '1.16.4'\n",
        "\n",
        "from google.colab import drive\n",
        "import requests\n",
        "\n",
        "drive.mount('/content/drive')\n",
        "\n",
        "# Create the directory which will be used for the server\n",
        "! mkdir \"/content/drive/My Drive/Minecraft-server\"\n",
        "\n",
        "print('Downloading to Google Drive...')\n",
        "\n",
        "url = 'https://papermc.io/api/v1/paper/' + version + '/latest/download'\n",
        "\n",
        "r = requests.get(url)\n",
        "\n",
        "if r.status_code is 200:\n",
        "  with open('/content/drive/My Drive/Minecraft-server/server.jar', 'wb') as f:\n",
        "    f.write(r.content)\n",
        "  print('Done!')\n",
        "else:\n",
        "  print('Error '+ str(r.status_code) + '! Most likely you entered a unsupported version. Try running the code again if you think that shouldn\\'t have happened.')"
      ],
      "execution_count": null,
      "outputs": []
    },
    {
      "cell_type": "markdown",
      "metadata": {
        "id": "vhHYrg6FlbcQ"
      },
      "source": [
        "**Automatically accept the EULA**"
      ]
    },
    {
      "cell_type": "code",
      "metadata": {
        "id": "aefCB6cFlle8"
      },
      "source": [
        "# Please read the file stored in your server folder before running this command. \n",
        "# Also, go to https://www.minecraft.net/en-us/eula to read Minecraft's EULA.\n",
        "\n",
        "# Make sure Drive is mounted\n",
        "from google.colab import drive\n",
        "drive.mount('/content/drive')\n",
        "\n",
        "%cd \"/content/drive/My Drive/Minecraft-server\"\n",
        "! sed -i 's/eula=false/eula=true/g' eula.txt"
      ],
      "execution_count": null,
      "outputs": []
    },
    {
      "cell_type": "markdown",
      "metadata": {
        "id": "FO5S4OHVdV5O"
      },
      "source": [
        "# Debug\n",
        "SSH acess to host OS"
      ]
    },
    {
      "cell_type": "code",
      "metadata": {
        "id": "cM7gKp6Yi8Q2"
      },
      "source": [
        "## For SSH acess to host OS ##\n",
        "#Download ngrok\n",
        "! wget -q -c -nc https://bin.equinox.io/c/4VmDzA7iaHb/ngrok-stable-linux-amd64.zip\n",
        "! unzip -qq -n ngrok-stable-linux-amd64.zip\n",
        "#Setup sshd\n",
        "! apt-get install -qq -o=Dpkg::Use-Pty=0 openssh-server pwgen > /dev/null\n",
        "#Set root password\n",
        "! echo root:minecraft123 | chpasswd #change the password (default is minecraft123)\n",
        "! mkdir -p /var/run/sshd\n",
        "! echo \"PermitRootLogin yes\" >> /etc/ssh/sshd_config\n",
        "! echo \"PasswordAuthentication yes\" >> /etc/ssh/sshd_config\n",
        "! echo \"LD_LIBRARY_PATH=/usr/lib64-nvidia\" >> /root/.bashrc\n",
        "! echo \"export LD_LIBRARY_PATH\" >> /root/.bashrc\n",
        "\n",
        "#Run sshd\n",
        "get_ipython().system_raw('/usr/sbin/sshd -D &')\n",
        "\n",
        "#Ask token\n",
        "print(\"Copy authtoken from https://dashboard.ngrok.com/auth\")\n",
        "import getpass\n",
        "authtoken = getpass.getpass() #input your Ngrok auth token everytime or simply replace \"getpass.getpass()\" with your token in \"double quotes\"\n",
        "\n",
        "#Create tunnel\n",
        "get_ipython().system_raw('./ngrok authtoken $authtoken && ./ngrok tcp 22 &')\n",
        "\n",
        "#Get the public address by running the cell below (for some reason, running both the commands in same cell result in an error. \n",
        "#Thus it has been kept in a sepreate cell)"
      ],
      "execution_count": null,
      "outputs": []
    },
    {
      "cell_type": "code",
      "metadata": {
        "id": "7kR6rsn7jyxt"
      },
      "source": [
        "#Get public address \n",
        "! curl -s http://localhost:4040/api/tunnels | python3 -c \\\n",
        "    \"import sys, json; print(json.load(sys.stdin)['tunnels'][0]['public_url'])\""
      ],
      "execution_count": null,
      "outputs": []
    },
    {
      "cell_type": "code",
      "metadata": {
        "id": "Z2rztsCQk0kh"
      },
      "source": [
        "## For inspecting the minecraft server directory ##\n",
        "%cd \"/content/drive/My Drive/Minecraft-server\"\n",
        "!ls\n"
      ],
      "execution_count": null,
      "outputs": []
    },
    {
      "cell_type": "markdown",
      "metadata": {
        "id": "UdaghQ4W4duK"
      },
      "source": [
        "#test"
      ]
    },
    {
      "cell_type": "code",
      "metadata": {
        "id": "pzODYhIrTkld"
      },
      "source": [
        "#Testing\n",
        "!pip -q install pyngrok\n",
        "\n",
        "import os\n",
        "import re\n",
        "import getpass\n",
        "import subprocess\n",
        "import time\n",
        "\n",
        "from pyngrok import conf, ngrok\n",
        "\n",
        "tunnel_service = \"lynk\" #available services: ngrok, lynk, tunnelto\n",
        "\n",
        "# Ask for the ngrok authtoken\n",
        "if tunnel_service == \"ngrok\" :\n",
        "  print(\"Get your authtoken from https://dashboard.ngrok.com/auth\")\n",
        "  import getpass\n",
        "  authtoken = getpass.getpass()  # input your Ngrok auth token everytime you run the cell or simply replace \"getpass.getpass()\" with your token in \"double quotes\"\n",
        "  !ngrok authtoken $authtoken # login to ngrok\n",
        "elif tunnel_service == \"lynk\" :\n",
        "  !wget https://dl.loopholelabs.io/releases/lynk/linux/0.0.1-beta/x64/lynk.zip && unzip lynk.zip\n",
        "  print(\"get yout token and key from https://lynk.sh/dashboard\")\n",
        "  lynk_token = getpass.getpass()  # input your lynk token everytime you run the cell or simply replace \"getpass.getpass()\" with your token in \"double quotes\"\n",
        "  lynk_key = getpass.getpass()\n",
        "  !chmod +x lynk\n",
        "  !./lynk auth -t $lynk_token -k $lynk_key\n",
        "  !mv lynk_temp.txt lynk_temp_old.txt ; touch lynk_temp.txt\n",
        "  time.sleep(2.4)\n",
        "  with open(\"/content/lynk_temp.txt\") as out :\n",
        "    subprocess.Popen([\"./lynk\", \"tcp\", \"25566\"], stdout=out)\n",
        "  print(\"test\")\n",
        "  with open(\"/content/lynk_temp.txt\") as new , open(\"/content/lynk_temp_old.txt\") as old :\n",
        "    if new.read() == old.read() :\n",
        "      print(\"Oops! something went wrong. You would need to run the script again\")\n",
        "      exit()\n",
        "    else :\n",
        "      print(new.read())\n",
        "\n"
      ],
      "execution_count": null,
      "outputs": []
    },
    {
      "cell_type": "code",
      "metadata": {
        "id": "c3gTGzcXcqUr",
        "colab": {
          "base_uri": "https://localhost:8080/"
        },
        "outputId": "92fc69fb-1569-488c-ed04-689df5170858"
      },
      "source": [
        "!pip -q install pyngrok\n",
        "\n",
        "import os\n",
        "import re\n",
        "import getpass\n",
        "import subprocess\n",
        "from pyngrok import conf, ngrok\n",
        "!./lynk tcp 25566 > lynk_temp.txt"
      ],
      "execution_count": null,
      "outputs": [
        {
          "output_type": "stream",
          "text": [
            "\u001b[?25l⠋ Preparing Lynk Client\n",
            "\u001b[2K\u001b[1G\u001b[1A\u001b[2K\u001b[1G\u001b[?25h\u001b[?25l⠋ Connecting to Lynk Server at lb.lynk.sh\n",
            "\u001b[2K\u001b[1G\u001b[1A\u001b[2K\u001b[1G\u001b[?25h\u001b[?25l⠋ Retreiving Lynk Server\n",
            "\u001b[2K\u001b[1G\u001b[1A\u001b[2K\u001b[1G\u001b[?25h\u001b[?25h\u001b[?25l⠋ Authenticating...\n",
            "\u001b[2K\u001b[1G\u001b[1A\u001b[2K\u001b[1G⠙ Authenticating...\n",
            "\u001b[2K\u001b[1G\u001b[1A\u001b[2K\u001b[1G⠹ Authenticating...\n",
            "\u001b[2K\u001b[1G\u001b[1A\u001b[2K\u001b[1G\u001b[?25h\u001b[?25h^C\n"
          ],
          "name": "stdout"
        }
      ]
    }
  ]
}